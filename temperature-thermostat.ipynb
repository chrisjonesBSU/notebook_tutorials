{
 "cells": [
  {
   "cell_type": "code",
   "execution_count": 1,
   "metadata": {},
   "outputs": [
    {
     "name": "stderr",
     "output_type": "stream",
     "text": [
      "/home/chris/miniconda3/envs/mosdev/lib/python3.7/site-packages/hoomd/meta.py:26: DeprecationWarning: Using or importing the ABCs from 'collections' instead of from 'collections.abc' is deprecated since Python 3.3,and in 3.9 it will stop working\n",
      "  from collections import Mapping\n"
     ]
    }
   ],
   "source": [
    "import mbuild as mb\n",
    "from mbuild.formats.hoomd_simulation import create_hoomd_simulation\n",
    "import hoomd\n",
    "from utils.cg_utils import gsd_rdf\n",
    "from utils.draw_scene import snap_render, display_movie\n",
    "import numpy as np\n",
    "import matplotlib.pyplot as plt"
   ]
  },
  {
   "cell_type": "code",
   "execution_count": 10,
   "metadata": {},
   "outputs": [],
   "source": [
    "# Use Hoomd to build a simple LJ-particle system:\n",
    "\n",
    "def build_system(packing='bcc'):\n",
    "    '''\n",
    "    Generate a simple LJ particle system using hoomd's create_lattice function\n",
    "    packing \n",
    "    '''\n",
    "    #hoomd.context.initialize(\"\")\n",
    "    if packing == 'fcc':\n",
    "        system = hoomd.init.create_lattice(unitcell=(hoomd.lattice.fcc(a=1.58)), n=6)\n",
    "    elif packing == 'bcc':\n",
    "        system = hoomd.init.create_lattice(unitcell=(hoomd.lattice.bcc(a=1.29)), n=6)\n",
    "    hoomd.dump.gsd('{}_system.gsd'.format(packing), group = hoomd.group.all(), period=None, overwrite=True)\n",
    "    return system\n",
    "\n",
    "def hoomd_simulation(system, temp, tau):\n",
    "    \n",
    "    hoomd.context.initialize(\"\")\n",
    "    system = build_system(packing='bcc')\n",
    "    nl = hoomd.md.nlist.cell()\n",
    "    lj = hoomd.md.pair.lj(r_cut=2.5, nlist=nl)\n",
    "    lj.pair_coeff.set('A', 'A', alpha=1.0, epsilon=1.0, sigma=1.0)\n",
    "    hoomd.md.integrate.mode_standard(dt=0.001)\n",
    "    _all = hoomd.group.all()\n",
    "    nvt = hoomd.md.integrate.nvt(group=_all, kT=temp, tau=tau)\n",
    "    nvt.randomize_velocities(seed=23)\n",
    "    hoomd.analyze.log(filename='out.log',\n",
    "                      quantities=[\"time\", \"temperature\", \"potential_energy\"],\n",
    "                      period=100,\n",
    "                      overwrite=True\n",
    "                     )\n",
    "    hoomd.dump.gsd('tau-trajectory.gsd', period=5e3, group=_all, overwrite=True)\n",
    "    hoomd.run(3e5)"
   ]
  },
  {
   "cell_type": "code",
   "execution_count": 4,
   "metadata": {},
   "outputs": [
    {
     "name": "stdout",
     "output_type": "stream",
     "text": [
      "notice(2): Group \"all\" created containing 1024 particles\n"
     ]
    }
   ],
   "source": [
    "bcc = build_system()"
   ]
  },
  {
   "cell_type": "code",
   "execution_count": 16,
   "metadata": {},
   "outputs": [
    {
     "name": "stdout",
     "output_type": "stream",
     "text": [
      "notice(2): Group \"all\" created containing 1024 particles\n",
      "notice(2): -- Neighborlist exclusion statistics -- :\n",
      "notice(2): Particles with 0 exclusions             : 1024\n",
      "notice(2): Neighbors included by diameter          : no\n",
      "notice(2): Neighbors excluded when in the same body: no\n",
      "** starting run **\n",
      "Time 00:00:10 | Step 11273 / 300000 | TPS 1127.29 | ETA 00:04:16\n",
      "Time 00:00:20 | Step 23058 / 300000 | TPS 1178.46 | ETA 00:03:55\n",
      "Time 00:00:30 | Step 34846 / 300000 | TPS 1178.72 | ETA 00:03:44\n",
      "Time 00:00:40 | Step 46596 / 300000 | TPS 1174.43 | ETA 00:03:35\n",
      "Time 00:00:50 | Step 58151 / 300000 | TPS 1155.44 | ETA 00:03:29\n",
      "Time 00:01:00 | Step 69841 / 300000 | TPS 1169 | ETA 00:03:16\n",
      "Time 00:01:10 | Step 81501 / 300000 | TPS 1165.21 | ETA 00:03:07\n",
      "Time 00:01:20 | Step 93398 / 300000 | TPS 1189.64 | ETA 00:02:53\n",
      "Time 00:01:30 | Step 105286 / 300000 | TPS 1188.72 | ETA 00:02:43\n",
      "Time 00:01:40 | Step 117067 / 300000 | TPS 1178.04 | ETA 00:02:35\n",
      "Time 00:01:50 | Step 128896 / 300000 | TPS 1182.87 | ETA 00:02:24\n",
      "Time 00:02:00 | Step 140729 / 300000 | TPS 1183.26 | ETA 00:02:14\n",
      "Time 00:02:10 | Step 152650 / 300000 | TPS 1191.56 | ETA 00:02:03\n",
      "Time 00:02:20 | Step 164501 / 300000 | TPS 1184.79 | ETA 00:01:54\n",
      "Time 00:02:30 | Step 176377 / 300000 | TPS 1187.55 | ETA 00:01:44\n",
      "Time 00:02:40 | Step 188224 / 300000 | TPS 1184.68 | ETA 00:01:34\n",
      "Time 00:02:50 | Step 199998 / 300000 | TPS 1177.39 | ETA 00:01:24\n",
      "Time 00:03:00 | Step 211932 / 300000 | TPS 1193.37 | ETA 00:01:13\n",
      "Time 00:03:10 | Step 223760 / 300000 | TPS 1182.02 | ETA 00:01:04\n",
      "Time 00:03:20 | Step 235751 / 300000 | TPS 1198.25 | ETA 00:00:53\n",
      "Time 00:03:30 | Step 247589 / 300000 | TPS 1183.73 | ETA 00:00:44\n",
      "Time 00:03:40 | Step 259424 / 300000 | TPS 1183.43 | ETA 00:00:34\n",
      "Time 00:03:50 | Step 271334 / 300000 | TPS 1190.96 | ETA 00:00:24\n",
      "Time 00:04:00 | Step 283246 / 300000 | TPS 1191.08 | ETA 00:00:14\n",
      "Time 00:04:10 | Step 295101 / 300000 | TPS 1184.81 | ETA 00:00:04\n",
      "Time 00:04:14 | Step 300000 / 300000 | TPS 1191.84 | ETA 00:00:00\n",
      "Average TPS: 1180.38\n",
      "---------\n",
      "-- Neighborlist stats:\n",
      "4138 normal updates / 3000 forced updates / 0 dangerous updates\n",
      "n_neigh_min: 0 / n_neigh_max: 96 / n_neigh_avg: 46.9492\n",
      "shortest rebuild period: 34\n",
      "-- Cell list stats:\n",
      "Dimension: 3, 3, 3\n",
      "n_min    : 32 / n_max: 43 / n_avg: 37.9259\n",
      "** run complete **\n"
     ]
    }
   ],
   "source": [
    "hoomd_simulation(system=bcc, temp=1.0, tau=1.0)"
   ]
  },
  {
   "cell_type": "code",
   "execution_count": null,
   "metadata": {},
   "outputs": [],
   "source": []
  },
  {
   "cell_type": "code",
   "execution_count": null,
   "metadata": {},
   "outputs": [],
   "source": []
  },
  {
   "cell_type": "code",
   "execution_count": null,
   "metadata": {
    "scrolled": false
   },
   "outputs": [],
   "source": []
  },
  {
   "cell_type": "code",
   "execution_count": null,
   "metadata": {},
   "outputs": [],
   "source": []
  },
  {
   "cell_type": "code",
   "execution_count": null,
   "metadata": {},
   "outputs": [],
   "source": []
  },
  {
   "cell_type": "code",
   "execution_count": null,
   "metadata": {},
   "outputs": [],
   "source": []
  }
 ],
 "metadata": {
  "kernelspec": {
   "display_name": "Python 3",
   "language": "python",
   "name": "python3"
  },
  "language_info": {
   "codemirror_mode": {
    "name": "ipython",
    "version": 3
   },
   "file_extension": ".py",
   "mimetype": "text/x-python",
   "name": "python",
   "nbconvert_exporter": "python",
   "pygments_lexer": "ipython3",
   "version": "3.7.7"
  }
 },
 "nbformat": 4,
 "nbformat_minor": 4
}
