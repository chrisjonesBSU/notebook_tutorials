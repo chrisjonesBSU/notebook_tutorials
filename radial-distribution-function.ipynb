{
 "cells": [
  {
   "cell_type": "code",
   "execution_count": 10,
   "metadata": {},
   "outputs": [],
   "source": [
    "import mbuild as mb\n",
    "from mbuild.formats.hoomd_simulation import create_hoomd_simulation\n",
    "import gsd\n",
    "import hoomd\n",
    "from utils.cg_utils import gsd_rdf\n",
    "from utils.draw_scene import snap_render, display_movie\n",
    "import numpy as np\n",
    "import matplotlib.pyplot as plt\n",
    "import freud"
   ]
  },
  {
   "cell_type": "code",
   "execution_count": 76,
   "metadata": {},
   "outputs": [],
   "source": [
    "# Use Hoomd to build a simple LJ-particle system:\n",
    "\n",
    "def build_system(packing='bcc'):\n",
    "    '''\n",
    "    Generate a simple LJ particle system using hoomd's create_lattice function\n",
    "    packing \n",
    "    '''\n",
    "    #hoomd.context.initialize(\"\")\n",
    "    if packing == 'fcc':\n",
    "        system = hoomd.init.create_lattice(unitcell=(hoomd.lattice.fcc(a=1.58)), n=6)\n",
    "    elif packing == 'bcc':\n",
    "        system = hoomd.init.create_lattice(unitcell=(hoomd.lattice.bcc(a=1.29)), n=6)\n",
    "    hoomd.dump.gsd('{}_system.gsd'.format(packing), group = hoomd.group.all(), period=None, overwrite=True)\n",
    "    return system\n",
    "\n",
    "\n",
    "def hoomd_simulation(packing, temp):\n",
    "    \n",
    "    hoomd.context.initialize(\"\")\n",
    "    system = build_system(packing)\n",
    "    nl = hoomd.md.nlist.cell()\n",
    "    lj = hoomd.md.pair.lj(r_cut=2.5, nlist=nl)\n",
    "    lj.pair_coeff.set('A', 'A', alpha=1.0, epsilon=1.0, sigma=1.0)\n",
    "    hoomd.md.integrate.mode_standard(dt=0.001)\n",
    "    _all = hoomd.group.all()\n",
    "    nvt = hoomd.md.integrate.nvt(group=_all, kT=temp, tau=1)\n",
    "    nvt.randomize_velocities(seed=23)\n",
    "    hoomd.analyze.log(filename='out.log',\n",
    "                      quantities=[\"time\", \"temperature\", \"potential_energy\"],\n",
    "                      period=100,\n",
    "                      overwrite=True\n",
    "                     )\n",
    "    hoomd.dump.gsd('{}-{}kT-trajectory.gsd'.format(packing, temp), period=5e3, group=_all, overwrite=True)\n",
    "    hoomd.run(3e5)\n",
    "\n",
    "    \n",
    "def gsd_rdf(gsdfile, A_name='A', B_name='A', start=0, stop=None, rmax=None, bins=50):\n",
    "    \"\"\"\n",
    "    This function calculates the radial distribution function given\n",
    "    a gsd file and the names of the particles. By default it will calculate\n",
    "    the rdf for the entire the trajectory.\n",
    "\n",
    "    Parameters\n",
    "    ----------\n",
    "    gsdfile : str, filename of the gsd trajectory\n",
    "    A_name, B_name : str, name(s) of particles between which to calculate the rdf\n",
    "        (found in gsd.hoomd.Snapshot.particles.types)\n",
    "    start : int, which frame to start accumulating the rdf (default 0)\n",
    "        (negative numbers index from the end)\n",
    "    stop : int, which frame to stop accumulating the rdf (default None)\n",
    "        If none is given, the function will default to the last frame.\n",
    "    rmax : float, maximum radius to consider. (default None)\n",
    "        If none is given, it'll be the minimum box length / 4\n",
    "    rdf : freud.density.RDF, if provided, this function will accumulate an average rdf,\n",
    "        otherwise it will provide the rdf only for the given compound. (default None)\n",
    "    bins : int, number of bins to use when calculating the distribution.\n",
    "\n",
    "    Returns\n",
    "    -------\n",
    "    freud.density.RDF\n",
    "    \"\"\"\n",
    "    f = gsd.pygsd.GSDFile(open(gsdfile, \"rb\"))\n",
    "    t = gsd.hoomd.HOOMDTrajectory(f)\n",
    "    snap = t[0]\n",
    "    if start < -len(t):\n",
    "        raise IndexError(\n",
    "                f\"Can't index beyond first frame: {len(t)} frames in gsd file\"\n",
    "                )\n",
    "    if rmax is None:\n",
    "        rmax = max(snap.configuration.box[:3]) * 0.45\n",
    "\n",
    "    rdf = freud.density.RDF(bins, rmax)\n",
    "\n",
    "    if stop is None:\n",
    "        stop = len(t) - 1\n",
    "    if start < 0:\n",
    "        start += len(t)\n",
    "    for frame in range(start, stop):\n",
    "        snap = t[frame]\n",
    "        box = freud.box.Box(*snap.configuration.box)\n",
    "        A_pos = snap.particles.position[\n",
    "                snap.particles.typeid == snap.particles.types.index(A_name)\n",
    "                ]\n",
    "        pos = A_pos\n",
    "        if A_name != B_name:\n",
    "            B_pos = snap.particles.position[\n",
    "                    snap.particles.typeid == snap.particles.types.index(B_name)\n",
    "                    ]\n",
    "            pos = np.concatenate((A_pos, B_pos))\n",
    "\n",
    "        n_query = freud.locality.AABBQuery.from_system((\n",
    "            box, pos\n",
    "        ))\n",
    "        rdf.compute(n_query, reset=False)\n",
    "    return rdf\n",
    "\n",
    "def rdf_from_gsd(gsd_file, r_max=None, r_min=0.1, nbins=50):\n",
    "    f = gsd.pygsd.GSDFile(open(gsd_file, \"rb\"))\n",
    "    trajectory = gsd.hoomd.HOOMDTrajectory(f)\n",
    "    \n",
    "    if r_max is None:\n",
    "        r_max = max(trajectory[0].configuration.box[:3]) * 0.45\n",
    "    freud_rdf = freud.density.RDF(bins=nbins, r_max=r_max, r_min=r_min)\n",
    "    for frame in trajectory:\n",
    "        freud_rdf.compute(system=frame, reset=False)\n",
    "    return freud_rdf"
   ]
  },
  {
   "cell_type": "code",
   "execution_count": 34,
   "metadata": {},
   "outputs": [
    {
     "name": "stdout",
     "output_type": "stream",
     "text": [
      "notice(2): Group \"all\" created containing 432 particles\n"
     ]
    }
   ],
   "source": [
    "bcc_system = build_system('bcc')"
   ]
  },
  {
   "cell_type": "code",
   "execution_count": 74,
   "metadata": {},
   "outputs": [],
   "source": [
    "bcc_rdf = rdf_from_gsd('bcc_system.gsd')"
   ]
  },
  {
   "cell_type": "code",
   "execution_count": 75,
   "metadata": {},
   "outputs": [
    {
     "data": {
      "image/png": "[encoded data removed]",
      "text/plain": [
       "freud.density.RDF(bins=50, r_max=3.482999801635742, r_min=0.10000000149011612)"
      ]
     },
     "execution_count": 75,
     "metadata": {},
     "output_type": "execute_result"
    }
   ],
   "source": [
    "bcc_rdf"
   ]
  },
  {
   "cell_type": "code",
   "execution_count": 77,
   "metadata": {
    "scrolled": true
   },
   "outputs": [
    {
     "name": "stdout",
     "output_type": "stream",
     "text": [
      "notice(2): Group \"all\" created containing 432 particles\n",
      "notice(2): -- Neighborlist exclusion statistics -- :\n",
      "notice(2): Particles with 0 exclusions             : 432\n",
      "notice(2): Neighbors included by diameter          : no\n",
      "notice(2): Neighbors excluded when in the same body: no\n",
      "** starting run **\n",
      "Time 00:00:10 | Step 31001 / 300000 | TPS 3099.56 | ETA 00:01:26\n",
      "Time 00:00:20 | Step 62168 / 300000 | TPS 3116.65 | ETA 00:01:16\n",
      "Time 00:00:30 | Step 95001 / 300000 | TPS 3282.79 | ETA 00:01:02\n",
      "Time 00:00:40 | Step 128127 / 300000 | TPS 3312.52 | ETA 00:00:51\n",
      "Time 00:00:50 | Step 161094 / 300000 | TPS 3296.65 | ETA 00:00:42\n",
      "Time 00:01:00 | Step 194201 / 300000 | TPS 3310.26 | ETA 00:00:31\n",
      "Time 00:01:10 | Step 227054 / 300000 | TPS 3285.23 | ETA 00:00:22\n",
      "Time 00:01:20 | Step 259682 / 300000 | TPS 3262.73 | ETA 00:00:12\n",
      "Time 00:01:30 | Step 291972 / 300000 | TPS 3228.95 | ETA 00:00:02\n",
      "Time 00:01:32 | Step 300000 / 300000 | TPS 3255.23 | ETA 00:00:00\n",
      "Average TPS: 3244.2\n",
      "---------\n",
      "-- Neighborlist stats:\n",
      "1174 normal updates / 3000 forced updates / 0 dangerous updates\n",
      "n_neigh_min: 0 / n_neigh_max: 94 / n_neigh_avg: 46.2801\n",
      "shortest rebuild period: 61\n",
      "-- Cell list stats:\n",
      "Dimension: 2, 2, 2\n",
      "n_min    : 51 / n_max: 57 / n_avg: 54\n",
      "** run complete **\n"
     ]
    }
   ],
   "source": [
    "bcc_cold = hoomd_simulation(packing='bcc', temp=0.3)"
   ]
  },
  {
   "cell_type": "code",
   "execution_count": 78,
   "metadata": {},
   "outputs": [
    {
     "data": {
      "image/png": "[encoded data removed]",
      "text/plain": [
       "freud.density.RDF(bins=50, r_max=3.482999801635742, r_min=0.10000000149011612)"
      ]
     },
     "execution_count": 78,
     "metadata": {},
     "output_type": "execute_result"
    }
   ],
   "source": [
    "bcc_cold_rdf = rdf_from_gsd('bcc-0.3-trajectory.gsd')\n",
    "bcc_cold_rdf"
   ]
  },
  {
   "cell_type": "code",
   "execution_count": null,
   "metadata": {},
   "outputs": [],
   "source": [
    "bcc_cold_rdf = rdf_from_gsd('bcc-0.3-trajectory.gsd')\n",
    "bcc_cold_rdf"
   ]
  },
  {
   "cell_type": "code",
   "execution_count": 81,
   "metadata": {},
   "outputs": [
    {
     "name": "stdout",
     "output_type": "stream",
     "text": [
      "notice(2): Group \"all\" created containing 432 particles\n",
      "notice(2): -- Neighborlist exclusion statistics -- :\n",
      "notice(2): Particles with 0 exclusions             : 432\n",
      "notice(2): Neighbors included by diameter          : no\n",
      "notice(2): Neighbors excluded when in the same body: no\n",
      "** starting run **\n",
      "Time 00:00:10 | Step 26961 / 300000 | TPS 2695.8 | ETA 00:01:41\n",
      "Time 00:00:20 | Step 54570 / 300000 | TPS 2760.89 | ETA 00:01:28\n",
      "Time 00:00:30 | Step 81237 / 300000 | TPS 2666.66 | ETA 00:01:22\n",
      "Time 00:00:40 | Step 108363 / 300000 | TPS 2712.57 | ETA 00:01:10\n",
      "Time 00:00:50 | Step 136199 / 300000 | TPS 2783.54 | ETA 00:00:58\n",
      "Time 00:01:00 | Step 164111 / 300000 | TPS 2791.13 | ETA 00:00:48\n",
      "Time 00:01:10 | Step 191960 / 300000 | TPS 2784.86 | ETA 00:00:38\n",
      "Time 00:01:20 | Step 219654 / 300000 | TPS 2769.38 | ETA 00:00:29\n",
      "Time 00:01:30 | Step 247473 / 300000 | TPS 2781.84 | ETA 00:00:18\n",
      "Time 00:01:40 | Step 275623 / 300000 | TPS 2814.92 | ETA 00:00:08\n",
      "Time 00:01:48 | Step 300000 / 300000 | TPS 2825.65 | ETA 00:00:00\n",
      "Average TPS: 2761.66\n",
      "---------\n",
      "-- Neighborlist stats:\n",
      "9626 normal updates / 3000 forced updates / 0 dangerous updates\n",
      "n_neigh_min: 0 / n_neigh_max: 95 / n_neigh_avg: 47.0208\n",
      "shortest rebuild period: 16\n",
      "-- Cell list stats:\n",
      "Dimension: 2, 2, 2\n",
      "n_min    : 51 / n_max: 56 / n_avg: 54\n",
      "** run complete **\n"
     ]
    }
   ],
   "source": [
    "bcc_hot = hoomd_simulation(packing='bcc', temp=4)"
   ]
  },
  {
   "cell_type": "code",
   "execution_count": 82,
   "metadata": {},
   "outputs": [
    {
     "data": {
      "image/png": "[encoded data removed]",
      "text/plain": [
       "freud.density.RDF(bins=50, r_max=3.482999801635742, r_min=0.10000000149011612)"
      ]
     },
     "execution_count": 82,
     "metadata": {},
     "output_type": "execute_result"
    }
   ],
   "source": [
    "bcc_hot_rdf = rdf_from_gsd('bcc-4-trajectory.gsd')\n",
    "bcc_hot_rdf"
   ]
  },
  {
   "cell_type": "code",
   "execution_count": null,
   "metadata": {},
   "outputs": [],
   "source": []
  }
 ],
 "metadata": {
  "kernelspec": {
   "display_name": "Python 3",
   "language": "python",
   "name": "python3"
  },
  "language_info": {
   "codemirror_mode": {
    "name": "ipython",
    "version": 3
   },
   "file_extension": ".py",
   "mimetype": "text/x-python",
   "name": "python",
   "nbconvert_exporter": "python",
   "pygments_lexer": "ipython3",
   "version": "3.7.7"
  }
 },
 "nbformat": 4,
 "nbformat_minor": 4
}
