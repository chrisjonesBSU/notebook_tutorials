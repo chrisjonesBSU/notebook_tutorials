{
 "cells": [
  {
   "cell_type": "markdown",
   "metadata": {},
   "source": [
    "# Intro to Molecular Dynamics (MD)\n",
    "\n",
    "Simple simulation of Lennard-Jonesium"
   ]
  },
  {
   "cell_type": "code",
   "execution_count": null,
   "metadata": {},
   "outputs": [],
   "source": [
    "import hoomd\n",
    "import hoomd.md\n",
    "import mbuild as mb\n",
    "import numpy as np\n",
    "\n",
    "from utils.draw_scene import from_gsd"
   ]
  },
  {
   "cell_type": "markdown",
   "metadata": {},
   "source": [
    "First we'll initialize a simple cubic lattice."
   ]
  },
  {
   "cell_type": "code",
   "execution_count": null,
   "metadata": {},
   "outputs": [],
   "source": [
    "hoomd.context.initialize(\"\")\n",
    "system = hoomd.init.create_lattice(unitcell=(hoomd.lattice.sc(a=1.58)), n=6)\n",
    "hoomd.dump.gsd('sc_lattice.gsd', group=hoomd.group.all(), period=None, overwrite=True)\n",
    "\n",
    "sc_lattice = from_gsd(\"sc_lattice.gsd\")\n",
    "sc_lattice.visualize().show()"
   ]
  },
  {
   "cell_type": "markdown",
   "metadata": {},
   "source": [
    "add more words here\n",
    "\n",
    "hoomd uses a neighborlist\n",
    "LJ\n",
    "integrator"
   ]
  },
  {
   "cell_type": "code",
   "execution_count": 3,
   "metadata": {},
   "outputs": [
    {
     "name": "stdout",
     "output_type": "stream",
     "text": [
      "notice(2): -- Neighborlist exclusion statistics -- :\n",
      "notice(2): Particles with 0 exclusions             : 216\n",
      "notice(2): Neighbors included by diameter          : no\n",
      "notice(2): Neighbors excluded when in the same body: no\n",
      "** starting run **\n",
      "Time 00:00:10 | Step 123426 / 10000000 | TPS 12342.6 | ETA 00:13:20\n",
      "Time 00:00:20 | Step 249949 / 10000000 | TPS 12651.6 | ETA 00:12:50\n",
      "Time 00:00:30 | Step 374017 / 10000000 | TPS 12406.7 | ETA 00:12:55\n",
      "Time 00:00:40 | Step 495897 / 10000000 | TPS 12188 | ETA 00:12:59\n",
      "Time 00:00:50 | Step 625140 / 10000000 | TPS 12924.2 | ETA 00:12:05\n",
      "Time 00:01:00 | Step 753082 / 10000000 | TPS 12794.1 | ETA 00:12:02\n",
      "Time 00:01:10 | Step 878643 / 10000000 | TPS 12556 | ETA 00:12:06\n",
      "Time 00:01:20 | Step 1006916 / 10000000 | TPS 12827.2 | ETA 00:11:41\n",
      "Time 00:01:30 | Step 1134883 / 10000000 | TPS 12796.4 | ETA 00:11:32\n",
      "Time 00:01:40 | Step 1260296 / 10000000 | TPS 12541.3 | ETA 00:11:36\n",
      "Time 00:01:50 | Step 1386200 / 10000000 | TPS 12589.9 | ETA 00:11:24\n",
      "Time 00:02:00 | Step 1513801 / 10000000 | TPS 12759.3 | ETA 00:11:05\n",
      "Time 00:02:10 | Step 1642154 / 10000000 | TPS 12835.3 | ETA 00:10:51\n",
      "Time 00:02:20 | Step 1770664 / 10000000 | TPS 12850.9 | ETA 00:10:40\n",
      "Time 00:02:30 | Step 1896759 / 10000000 | TPS 12609.5 | ETA 00:10:42\n",
      "Time 00:02:40 | Step 2024047 / 10000000 | TPS 12728.7 | ETA 00:10:26\n",
      "Time 00:02:50 | Step 2152991 / 10000000 | TPS 12894.4 | ETA 00:10:08\n",
      "Time 00:03:00 | Step 2281104 / 10000000 | TPS 12811.3 | ETA 00:10:02\n",
      "Time 00:03:10 | Step 2409009 / 10000000 | TPS 12790.5 | ETA 00:09:53\n",
      "Time 00:03:20 | Step 2537155 / 10000000 | TPS 12814.6 | ETA 00:09:42\n",
      "Time 00:03:30 | Step 2665629 / 10000000 | TPS 12847.4 | ETA 00:09:30\n",
      "Time 00:03:40 | Step 2793655 / 10000000 | TPS 12802.5 | ETA 00:09:22\n",
      "Time 00:03:50 | Step 2921001 / 10000000 | TPS 12733.7 | ETA 00:09:15\n",
      "Time 00:04:00 | Step 3049301 / 10000000 | TPS 12829.3 | ETA 00:09:01\n",
      "Time 00:04:10 | Step 3176912 / 10000000 | TPS 12761.1 | ETA 00:08:54\n",
      "Time 00:04:20 | Step 3305592 / 10000000 | TPS 12868 | ETA 00:08:40\n",
      "Time 00:04:30 | Step 3433990 / 10000000 | TPS 12839.6 | ETA 00:08:31\n",
      "Time 00:04:40 | Step 3561770 / 10000000 | TPS 12777.9 | ETA 00:08:23\n",
      "Time 00:04:50 | Step 3690794 / 10000000 | TPS 12902.4 | ETA 00:08:08\n",
      "Time 00:05:00 | Step 3819164 / 10000000 | TPS 12837 | ETA 00:08:01\n",
      "Time 00:05:10 | Step 3946966 / 10000000 | TPS 12780.2 | ETA 00:07:53\n",
      "Time 00:05:20 | Step 4074987 / 10000000 | TPS 12802.1 | ETA 00:07:42\n",
      "Time 00:05:30 | Step 4204101 / 10000000 | TPS 12910.7 | ETA 00:07:28\n",
      "Time 00:05:40 | Step 4331601 / 10000000 | TPS 12749.5 | ETA 00:07:24\n",
      "Time 00:05:50 | Step 4454452 / 10000000 | TPS 12285.1 | ETA 00:07:31\n",
      "Time 00:06:00 | Step 4577074 / 10000000 | TPS 12262.1 | ETA 00:07:22\n",
      "Time 00:06:10 | Step 4700912 / 10000000 | TPS 12383.8 | ETA 00:07:07\n",
      "Time 00:06:20 | Step 4828182 / 10000000 | TPS 12727 | ETA 00:06:46\n",
      "Time 00:06:30 | Step 4954161 / 10000000 | TPS 12597.9 | ETA 00:06:40\n",
      "Time 00:06:40 | Step 5078031 / 10000000 | TPS 12387 | ETA 00:06:37\n",
      "Time 00:06:50 | Step 5203303 / 10000000 | TPS 12527.1 | ETA 00:06:22\n",
      "Time 00:07:00 | Step 5331787 / 10000000 | TPS 12848.4 | ETA 00:06:03\n",
      "Time 00:07:10 | Step 5459897 / 10000000 | TPS 12810.8 | ETA 00:05:54\n",
      "Time 00:07:20 | Step 5588305 / 10000000 | TPS 12840.8 | ETA 00:05:43\n",
      "Time 00:07:30 | Step 5709419 / 10000000 | TPS 12100.8 | ETA 00:05:54\n",
      "Time 00:07:40 | Step 5805829 / 10000000 | TPS 9640.91 | ETA 00:07:15\n",
      "Time 00:07:50 | Step 5911132 / 10000000 | TPS 10530.3 | ETA 00:06:28\n",
      "Time 00:08:00 | Step 6035424 / 10000000 | TPS 12429.1 | ETA 00:05:18\n",
      "Time 00:08:10 | Step 6154815 / 10000000 | TPS 11938.4 | ETA 00:05:22\n",
      "Time 00:08:20 | Step 6200268 / 10000000 | TPS 4545.29 | ETA 00:13:55\n",
      "Time 00:08:30 | Step 6305541 / 10000000 | TPS 10527.2 | ETA 00:05:50\n",
      "Time 00:08:40 | Step 6421384 / 10000000 | TPS 11584.2 | ETA 00:05:08\n",
      "Time 00:08:50 | Step 6533901 / 10000000 | TPS 11245.7 | ETA 00:05:08\n",
      "Time 00:09:00 | Step 6656545 / 10000000 | TPS 12263.7 | ETA 00:04:32\n",
      "Time 00:09:10 | Step 6782546 / 10000000 | TPS 12600 | ETA 00:04:15\n",
      "Time 00:09:20 | Step 6906918 / 10000000 | TPS 12437.2 | ETA 00:04:08\n",
      "Time 00:09:30 | Step 7029022 / 10000000 | TPS 12210.3 | ETA 00:04:03\n",
      "Time 00:09:40 | Step 7156184 / 10000000 | TPS 12716.1 | ETA 00:03:43\n",
      "Time 00:09:50 | Step 7275610 / 10000000 | TPS 11942.5 | ETA 00:03:48\n",
      "Time 00:10:00 | Step 7400201 / 10000000 | TPS 12459 | ETA 00:03:28\n",
      "Time 00:10:10 | Step 7526337 / 10000000 | TPS 12613.5 | ETA 00:03:16\n",
      "Time 00:10:20 | Step 7647249 / 10000000 | TPS 12091.1 | ETA 00:03:14\n",
      "Time 00:10:30 | Step 7774713 / 10000000 | TPS 12746.4 | ETA 00:02:54\n",
      "Time 00:10:40 | Step 7880438 / 10000000 | TPS 10572.5 | ETA 00:03:20\n",
      "Time 00:10:50 | Step 7998332 / 10000000 | TPS 11789.2 | ETA 00:02:49\n",
      "Time 00:11:00 | Step 8110828 / 10000000 | TPS 11249.6 | ETA 00:02:47\n",
      "Time 00:11:10 | Step 8233696 / 10000000 | TPS 12286.8 | ETA 00:02:23\n",
      "Time 00:11:20 | Step 8356849 / 10000000 | TPS 12314.5 | ETA 00:02:13\n",
      "Time 00:11:30 | Step 8481946 / 10000000 | TPS 12509.4 | ETA 00:02:01\n",
      "Time 00:11:40 | Step 8605903 / 10000000 | TPS 12395.7 | ETA 00:01:52\n",
      "Time 00:11:50 | Step 8728295 / 10000000 | TPS 12239.1 | ETA 00:01:43\n",
      "Time 00:12:00 | Step 8845340 / 10000000 | TPS 11704.5 | ETA 00:01:38\n",
      "Time 00:12:10 | Step 8965154 / 10000000 | TPS 11981.4 | ETA 00:01:26\n",
      "Time 00:12:20 | Step 9093168 / 10000000 | TPS 12801.3 | ETA 00:01:10\n",
      "Time 00:12:30 | Step 9211818 / 10000000 | TPS 11865 | ETA 00:01:06\n",
      "Time 00:12:40 | Step 9334347 / 10000000 | TPS 12252.7 | ETA 00:00:54\n",
      "Time 00:12:50 | Step 9439101 / 10000000 | TPS 10474.8 | ETA 00:00:53\n",
      "Time 00:13:00 | Step 9556997 / 10000000 | TPS 11789.6 | ETA 00:00:37\n",
      "Time 00:13:10 | Step 9680618 / 10000000 | TPS 12362.1 | ETA 00:00:25\n",
      "Time 00:13:20 | Step 9804462 / 10000000 | TPS 12384.4 | ETA 00:00:15\n",
      "Time 00:13:30 | Step 9926105 / 10000000 | TPS 12164.2 | ETA 00:00:06\n",
      "Time 00:13:36 | Step 10000000 / 10000000 | TPS 11801.4 | ETA 00:00:00\n",
      "Average TPS: 12250.6\n",
      "---------\n",
      "-- Neighborlist stats:\n",
      "192248 normal updates / 100000 forced updates / 0 dangerous updates\n",
      "n_neigh_min: 0 / n_neigh_max: 32 / n_neigh_avg: 13.1806\n",
      "shortest rebuild period: 28\n",
      "-- Cell list stats:\n",
      "Dimension: 3, 3, 3\n",
      "n_min    : 2 / n_max: 13 / n_avg: 8\n",
      "** run complete **\n"
     ]
    }
   ],
   "source": [
    "nl = hoomd.md.nlist.cell()\n",
    "lj = hoomd.md.pair.lj(r_cut=2.5, nlist=nl)\n",
    "lj.pair_coeff.set('A', 'A', epsilon=1.0, sigma=1.0)\n",
    "hoomd.md.integrate.mode_standard(dt=0.001)\n",
    "_all = hoomd.group.all()\n",
    "nvt = hoomd.md.integrate.nvt(group=_all, kT=1.5, tau=1)\n",
    "nvt.randomize_velocities(seed=23)\n",
    "hoomd.analyze.log(filename='LJ_out.log',\n",
    "                  quantities=[\"time\", \"temperature\", \"potential_energy\"],\n",
    "                  period=100,\n",
    "                  overwrite=True\n",
    "                 )\n",
    "hoomd.dump.gsd('LJ_trajectory.gsd', period=5e3, group=_all, overwrite=True)\n",
    "hoomd.run(1e7)"
   ]
  },
  {
   "cell_type": "code",
   "execution_count": null,
   "metadata": {},
   "outputs": [],
   "source": []
  }
 ],
 "metadata": {
  "kernelspec": {
   "display_name": "Python 3",
   "language": "python",
   "name": "python3"
  },
  "language_info": {
   "codemirror_mode": {
    "name": "ipython",
    "version": 3
   },
   "file_extension": ".py",
   "mimetype": "text/x-python",
   "name": "python",
   "nbconvert_exporter": "python",
   "pygments_lexer": "ipython3",
   "version": "3.7.6"
  }
 },
 "nbformat": 4,
 "nbformat_minor": 4
}
